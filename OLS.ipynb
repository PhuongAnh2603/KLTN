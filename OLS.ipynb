{
 "cells": [
  {
   "cell_type": "code",
   "execution_count": 2,
   "id": "b2c10d2f",
   "metadata": {},
   "outputs": [
    {
     "name": "stdout",
     "output_type": "stream",
     "text": [
      "(179762, 16)\n",
      "   Keyword_chính_chủ                                              Title  \\\n",
      "0                  0  NỢ NẶNG LÃI CẦN BÁN GẤP LÔ ĐẤT MẶT TIỀN GIÁ RẺ...   \n",
      "1                  0  2000TR/150M2, RẺ NHẤT THỊ TRƯỜNG, NGAY TRUNG T...   \n",
      "2                  0  888TR/150M2 GIA CÁT LƯỢNG MÀ BIẾT CHẮC CHẮN ĐỘ...   \n",
      "3                  0  TÔI CHỦ ĐẤT LÔ HÙNG THUẬN MỚI LIVESTREAM, ANH/...   \n",
      "4                  0  2.89T/150M2, KHỔNG TỬ BẢO ĐẸP TRAI VỚI ĐẸP GÁI...   \n",
      "\n",
      "      Source  Keyword_mặt_tiền         District      Property_Type  \\\n",
      "0  Alonhadat                 1  Phường Thới Hòa  Đất thổ cư, đất ở   \n",
      "1  Alonhadat                 1  Phường Thới Hòa  Đất thổ cư, đất ở   \n",
      "2  Alonhadat                 0  Phường Thới Hòa  Đất thổ cư, đất ở   \n",
      "3  Alonhadat                 0  Phường Thới Hòa  Đất thổ cư, đất ở   \n",
      "4  Alonhadat                 0  Phường Thới Hòa  Đất thổ cư, đất ở   \n",
      "\n",
      "   Keyword_sổ_đỏ                 Area  Area.1  Price_per_m2  Keyword_view_đẹp  \\\n",
      "0              0  Diện tích: 150 m\\n2   150.0  1.466667e+07                 0   \n",
      "1              0  Diện tích: 150 m\\n2   150.0  1.333333e+07                 0   \n",
      "2              0  Diện tích: 150 m\\n2   150.0  1.925333e+07                 0   \n",
      "3              0  Diện tích: 150 m\\n2   150.0  1.966667e+07                 0   \n",
      "4              0  Diện tích: 150 m\\n2   150.0  1.926667e+07                 0   \n",
      "\n",
      "   Keyword_giá_rẻ  Keyword_sổ_hồng  Title_Length          Price       Price.1  \n",
      "0               1                0            64    Giá: 2,2 tỷ  2.200000e+09  \n",
      "1               0                0            86      Giá: 2 tỷ  2.000000e+09  \n",
      "2               0                0            86  Giá: 2,888 tỷ  2.888000e+09  \n",
      "3               0                0            84   Giá: 2,95 tỷ  2.950000e+09  \n",
      "4               0                0            86   Giá: 2,89 tỷ  2.890000e+09  \n"
     ]
    },
    {
     "name": "stderr",
     "output_type": "stream",
     "text": [
      "C:\\Users\\FPT\\AppData\\Local\\Temp\\ipykernel_34228\\4152813736.py:4: DtypeWarning: Columns (7,14) have mixed types. Specify dtype option on import or set low_memory=False.\n",
      "  df = pd.read_csv(\"Combined_RealEstate.csv\")\n"
     ]
    }
   ],
   "source": [
    "import pandas as pd\n",
    "\n",
    "# Đọc dataset (thay đường dẫn đúng file CSV của bạn)\n",
    "df = pd.read_csv(\"Combined_RealEstate.csv\")\n",
    "\n",
    "print(df.shape)\n",
    "print(df.head())"
   ]
  },
  {
   "cell_type": "code",
   "execution_count": 4,
   "id": "a9aa556c",
   "metadata": {},
   "outputs": [
    {
     "name": "stdout",
     "output_type": "stream",
     "text": [
      "['Keyword_chính_chủ', 'Title', 'Source', 'Keyword_mặt_tiền', 'District', 'Property_Type', 'Keyword_sổ_đỏ', 'Area', 'Area.1', 'Price_per_m2', 'Keyword_view_đẹp', 'Keyword_giá_rẻ', 'Keyword_sổ_hồng', 'Title_Length', 'Price', 'Price.1']\n"
     ]
    }
   ],
   "source": [
    "print(df.columns.tolist())"
   ]
  },
  {
   "cell_type": "code",
   "execution_count": 5,
   "id": "dcfb79c4",
   "metadata": {},
   "outputs": [
    {
     "name": "stdout",
     "output_type": "stream",
     "text": [
      "                            OLS Regression Results                            \n",
      "==============================================================================\n",
      "Dep. Variable:            Price_clean   R-squared:                       0.003\n",
      "Model:                            OLS   Adj. R-squared:                  0.003\n",
      "Method:                 Least Squares   F-statistic:                     78.33\n",
      "Date:                Tue, 30 Sep 2025   Prob (F-statistic):          7.55e-130\n",
      "Time:                        20:11:06   Log-Likelihood:            -3.9040e+06\n",
      "No. Observations:              179762   AIC:                         7.808e+06\n",
      "Df Residuals:                  179753   BIC:                         7.808e+06\n",
      "Df Model:                           8                                         \n",
      "Covariance Type:            nonrobust                                         \n",
      "=====================================================================================\n",
      "                        coef    std err          t      P>|t|      [0.025      0.975]\n",
      "-------------------------------------------------------------------------------------\n",
      "const              1.813e+08    5.2e+06     34.856      0.000    1.71e+08    1.92e+08\n",
      "Area_clean        -7046.0337    645.504    -10.916      0.000   -8311.208   -5780.860\n",
      "Title_Length      -1.637e+06    7.1e+04    -23.057      0.000   -1.78e+06    -1.5e+06\n",
      "Keyword_chính_chủ  7.179e+06   6.24e+06      1.150      0.250   -5.05e+06    1.94e+07\n",
      "Keyword_giá_rẻ    -1.836e+07    1.2e+07     -1.532      0.125   -4.19e+07    5.12e+06\n",
      "Keyword_view_đẹp  -3.745e+07   2.17e+07     -1.723      0.085      -8e+07    5.15e+06\n",
      "Keyword_mặt_tiền   1.381e+07   4.43e+06      3.119      0.002    5.13e+06    2.25e+07\n",
      "Keyword_sổ_đỏ     -2.832e+06   1.57e+07     -0.180      0.857   -3.36e+07     2.8e+07\n",
      "Keyword_sổ_hồng     1.59e+07    1.1e+07      1.440      0.150   -5.73e+06    3.75e+07\n",
      "==============================================================================\n",
      "Omnibus:                   306484.050   Durbin-Watson:                   1.262\n",
      "Prob(Omnibus):                  0.000   Jarque-Bera (JB):        206671797.480\n",
      "Skew:                          12.120   Prob(JB):                         0.00\n",
      "Kurtosis:                     167.332   Cond. No.                     3.49e+04\n",
      "==============================================================================\n",
      "\n",
      "Notes:\n",
      "[1] Standard Errors assume that the covariance matrix of the errors is correctly specified.\n",
      "[2] The condition number is large, 3.49e+04. This might indicate that there are\n",
      "strong multicollinearity or other numerical problems.\n"
     ]
    }
   ],
   "source": [
    "import statsmodels.api as sm\n",
    "\n",
    "# Tạo df_reg từ df\n",
    "df_reg = df.copy()\n",
    "\n",
    "# Làm sạch Area\n",
    "def clean_numeric(series):\n",
    "    return pd.to_numeric(series.astype(str).str.extract(r'(\\d+\\.?\\d*)')[0], errors='coerce')\n",
    "\n",
    "df_reg['Area_clean'] = clean_numeric(df_reg['Area'])\n",
    "df_reg['Price_clean'] = clean_numeric(df_reg['Price'])\n",
    "\n",
    "# Biến độc lập\n",
    "X = df_reg[['Area_clean', 'Title_Length', \n",
    "            'Keyword_chính_chủ', 'Keyword_giá_rẻ', \n",
    "            'Keyword_view_đẹp', 'Keyword_mặt_tiền', \n",
    "            'Keyword_sổ_đỏ', 'Keyword_sổ_hồng']]\n",
    "\n",
    "# Loại bỏ missing\n",
    "X = X.dropna()\n",
    "y = df_reg.loc[X.index, 'Price_clean']\n",
    "\n",
    "# Thêm constant\n",
    "X = sm.add_constant(X)\n",
    "\n",
    "# Hồi quy OLS\n",
    "model = sm.OLS(y, X).fit()\n",
    "print(model.summary())"
   ]
  }
 ],
 "metadata": {
  "kernelspec": {
   "display_name": "Python 3",
   "language": "python",
   "name": "python3"
  },
  "language_info": {
   "codemirror_mode": {
    "name": "ipython",
    "version": 3
   },
   "file_extension": ".py",
   "mimetype": "text/x-python",
   "name": "python",
   "nbconvert_exporter": "python",
   "pygments_lexer": "ipython3",
   "version": "3.12.10"
  }
 },
 "nbformat": 4,
 "nbformat_minor": 5
}
